{
 "cells": [
  {
   "cell_type": "code",
   "execution_count": 2,
   "metadata": {},
   "outputs": [],
   "source": [
    "import pandas as pd\n",
    "import numpy as np\n",
    "from scipy.sparse import csr_matrix"
   ]
  },
  {
   "cell_type": "code",
   "execution_count": 3,
   "metadata": {},
   "outputs": [
    {
     "data": {
      "text/html": [
       "<div>\n",
       "<style scoped>\n",
       "    .dataframe tbody tr th:only-of-type {\n",
       "        vertical-align: middle;\n",
       "    }\n",
       "\n",
       "    .dataframe tbody tr th {\n",
       "        vertical-align: top;\n",
       "    }\n",
       "\n",
       "    .dataframe thead th {\n",
       "        text-align: right;\n",
       "    }\n",
       "</style>\n",
       "<table border=\"1\" class=\"dataframe\">\n",
       "  <thead>\n",
       "    <tr style=\"text-align: right;\">\n",
       "      <th></th>\n",
       "      <th>UserID</th>\n",
       "      <th>MovieID</th>\n",
       "      <th>Rating</th>\n",
       "      <th>Timestamp</th>\n",
       "    </tr>\n",
       "  </thead>\n",
       "  <tbody>\n",
       "    <tr>\n",
       "      <th>0</th>\n",
       "      <td>1</td>\n",
       "      <td>1193</td>\n",
       "      <td>5</td>\n",
       "      <td>978300760</td>\n",
       "    </tr>\n",
       "    <tr>\n",
       "      <th>1</th>\n",
       "      <td>1</td>\n",
       "      <td>661</td>\n",
       "      <td>3</td>\n",
       "      <td>978302109</td>\n",
       "    </tr>\n",
       "    <tr>\n",
       "      <th>2</th>\n",
       "      <td>1</td>\n",
       "      <td>914</td>\n",
       "      <td>3</td>\n",
       "      <td>978301968</td>\n",
       "    </tr>\n",
       "    <tr>\n",
       "      <th>3</th>\n",
       "      <td>1</td>\n",
       "      <td>3408</td>\n",
       "      <td>4</td>\n",
       "      <td>978300275</td>\n",
       "    </tr>\n",
       "    <tr>\n",
       "      <th>4</th>\n",
       "      <td>1</td>\n",
       "      <td>2355</td>\n",
       "      <td>5</td>\n",
       "      <td>978824291</td>\n",
       "    </tr>\n",
       "  </tbody>\n",
       "</table>\n",
       "</div>"
      ],
      "text/plain": [
       "   UserID  MovieID  Rating  Timestamp\n",
       "0       1     1193       5  978300760\n",
       "1       1      661       3  978302109\n",
       "2       1      914       3  978301968\n",
       "3       1     3408       4  978300275\n",
       "4       1     2355       5  978824291"
      ]
     },
     "execution_count": 3,
     "metadata": {},
     "output_type": "execute_result"
    }
   ],
   "source": [
    "ratingCols = ['UserID','MovieID','Rating','Timestamp']\n",
    "ratings = pd.read_csv('ml-1m/ratings.dat', sep='::', engine='python',header=None,names=ratingCols)\n",
    "ratings.head()"
   ]
  },
  {
   "cell_type": "code",
   "execution_count": 4,
   "metadata": {},
   "outputs": [
    {
     "data": {
      "text/html": [
       "<div>\n",
       "<style scoped>\n",
       "    .dataframe tbody tr th:only-of-type {\n",
       "        vertical-align: middle;\n",
       "    }\n",
       "\n",
       "    .dataframe tbody tr th {\n",
       "        vertical-align: top;\n",
       "    }\n",
       "\n",
       "    .dataframe thead th {\n",
       "        text-align: right;\n",
       "    }\n",
       "</style>\n",
       "<table border=\"1\" class=\"dataframe\">\n",
       "  <thead>\n",
       "    <tr style=\"text-align: right;\">\n",
       "      <th></th>\n",
       "      <th>UserID</th>\n",
       "      <th>Gender</th>\n",
       "      <th>Age</th>\n",
       "      <th>Occupation</th>\n",
       "      <th>Zip-code</th>\n",
       "    </tr>\n",
       "  </thead>\n",
       "  <tbody>\n",
       "    <tr>\n",
       "      <th>0</th>\n",
       "      <td>1</td>\n",
       "      <td>F</td>\n",
       "      <td>1</td>\n",
       "      <td>10</td>\n",
       "      <td>48067</td>\n",
       "    </tr>\n",
       "    <tr>\n",
       "      <th>1</th>\n",
       "      <td>2</td>\n",
       "      <td>M</td>\n",
       "      <td>56</td>\n",
       "      <td>16</td>\n",
       "      <td>70072</td>\n",
       "    </tr>\n",
       "    <tr>\n",
       "      <th>2</th>\n",
       "      <td>3</td>\n",
       "      <td>M</td>\n",
       "      <td>25</td>\n",
       "      <td>15</td>\n",
       "      <td>55117</td>\n",
       "    </tr>\n",
       "    <tr>\n",
       "      <th>3</th>\n",
       "      <td>4</td>\n",
       "      <td>M</td>\n",
       "      <td>45</td>\n",
       "      <td>7</td>\n",
       "      <td>02460</td>\n",
       "    </tr>\n",
       "    <tr>\n",
       "      <th>4</th>\n",
       "      <td>5</td>\n",
       "      <td>M</td>\n",
       "      <td>25</td>\n",
       "      <td>20</td>\n",
       "      <td>55455</td>\n",
       "    </tr>\n",
       "  </tbody>\n",
       "</table>\n",
       "</div>"
      ],
      "text/plain": [
       "   UserID Gender  Age  Occupation Zip-code\n",
       "0       1      F    1          10    48067\n",
       "1       2      M   56          16    70072\n",
       "2       3      M   25          15    55117\n",
       "3       4      M   45           7    02460\n",
       "4       5      M   25          20    55455"
      ]
     },
     "execution_count": 4,
     "metadata": {},
     "output_type": "execute_result"
    }
   ],
   "source": [
    "userCols = ['UserID','Gender','Age','Occupation','Zip-code']\n",
    "users = pd.read_csv('ml-1m/users.dat', sep='::', engine='python',header=None,names=userCols)\n",
    "users.head()"
   ]
  },
  {
   "cell_type": "code",
   "execution_count": 5,
   "metadata": {},
   "outputs": [
    {
     "data": {
      "text/html": [
       "<div>\n",
       "<style scoped>\n",
       "    .dataframe tbody tr th:only-of-type {\n",
       "        vertical-align: middle;\n",
       "    }\n",
       "\n",
       "    .dataframe tbody tr th {\n",
       "        vertical-align: top;\n",
       "    }\n",
       "\n",
       "    .dataframe thead th {\n",
       "        text-align: right;\n",
       "    }\n",
       "</style>\n",
       "<table border=\"1\" class=\"dataframe\">\n",
       "  <thead>\n",
       "    <tr style=\"text-align: right;\">\n",
       "      <th></th>\n",
       "      <th>MovieID</th>\n",
       "      <th>Title</th>\n",
       "      <th>Genres</th>\n",
       "    </tr>\n",
       "  </thead>\n",
       "  <tbody>\n",
       "    <tr>\n",
       "      <th>0</th>\n",
       "      <td>1</td>\n",
       "      <td>Toy Story (1995)</td>\n",
       "      <td>Animation|Children's|Comedy</td>\n",
       "    </tr>\n",
       "    <tr>\n",
       "      <th>1</th>\n",
       "      <td>2</td>\n",
       "      <td>Jumanji (1995)</td>\n",
       "      <td>Adventure|Children's|Fantasy</td>\n",
       "    </tr>\n",
       "    <tr>\n",
       "      <th>2</th>\n",
       "      <td>3</td>\n",
       "      <td>Grumpier Old Men (1995)</td>\n",
       "      <td>Comedy|Romance</td>\n",
       "    </tr>\n",
       "    <tr>\n",
       "      <th>3</th>\n",
       "      <td>4</td>\n",
       "      <td>Waiting to Exhale (1995)</td>\n",
       "      <td>Comedy|Drama</td>\n",
       "    </tr>\n",
       "    <tr>\n",
       "      <th>4</th>\n",
       "      <td>5</td>\n",
       "      <td>Father of the Bride Part II (1995)</td>\n",
       "      <td>Comedy</td>\n",
       "    </tr>\n",
       "  </tbody>\n",
       "</table>\n",
       "</div>"
      ],
      "text/plain": [
       "   MovieID                               Title                        Genres\n",
       "0        1                    Toy Story (1995)   Animation|Children's|Comedy\n",
       "1        2                      Jumanji (1995)  Adventure|Children's|Fantasy\n",
       "2        3             Grumpier Old Men (1995)                Comedy|Romance\n",
       "3        4            Waiting to Exhale (1995)                  Comedy|Drama\n",
       "4        5  Father of the Bride Part II (1995)                        Comedy"
      ]
     },
     "execution_count": 5,
     "metadata": {},
     "output_type": "execute_result"
    }
   ],
   "source": [
    "movieCols = ['MovieID','Title','Genres']\n",
    "movies = pd.read_csv('ml-1m/movies.dat', sep='::', engine='python',header=None,names=movieCols)\n",
    "movies.head()"
   ]
  },
  {
   "cell_type": "code",
   "execution_count": 6,
   "metadata": {},
   "outputs": [
    {
     "data": {
      "text/html": [
       "<div>\n",
       "<style scoped>\n",
       "    .dataframe tbody tr th:only-of-type {\n",
       "        vertical-align: middle;\n",
       "    }\n",
       "\n",
       "    .dataframe tbody tr th {\n",
       "        vertical-align: top;\n",
       "    }\n",
       "\n",
       "    .dataframe thead th {\n",
       "        text-align: right;\n",
       "    }\n",
       "</style>\n",
       "<table border=\"1\" class=\"dataframe\">\n",
       "  <thead>\n",
       "    <tr style=\"text-align: right;\">\n",
       "      <th></th>\n",
       "      <th>UserID</th>\n",
       "      <th>MovieID</th>\n",
       "      <th>Rating</th>\n",
       "      <th>Title</th>\n",
       "    </tr>\n",
       "  </thead>\n",
       "  <tbody>\n",
       "    <tr>\n",
       "      <th>0</th>\n",
       "      <td>1</td>\n",
       "      <td>1193</td>\n",
       "      <td>5</td>\n",
       "      <td>One Flew Over the Cuckoo's Nest (1975)</td>\n",
       "    </tr>\n",
       "    <tr>\n",
       "      <th>1</th>\n",
       "      <td>2</td>\n",
       "      <td>1193</td>\n",
       "      <td>5</td>\n",
       "      <td>One Flew Over the Cuckoo's Nest (1975)</td>\n",
       "    </tr>\n",
       "    <tr>\n",
       "      <th>2</th>\n",
       "      <td>12</td>\n",
       "      <td>1193</td>\n",
       "      <td>4</td>\n",
       "      <td>One Flew Over the Cuckoo's Nest (1975)</td>\n",
       "    </tr>\n",
       "    <tr>\n",
       "      <th>3</th>\n",
       "      <td>15</td>\n",
       "      <td>1193</td>\n",
       "      <td>4</td>\n",
       "      <td>One Flew Over the Cuckoo's Nest (1975)</td>\n",
       "    </tr>\n",
       "    <tr>\n",
       "      <th>4</th>\n",
       "      <td>17</td>\n",
       "      <td>1193</td>\n",
       "      <td>5</td>\n",
       "      <td>One Flew Over the Cuckoo's Nest (1975)</td>\n",
       "    </tr>\n",
       "  </tbody>\n",
       "</table>\n",
       "</div>"
      ],
      "text/plain": [
       "   UserID  MovieID  Rating                                   Title\n",
       "0       1     1193       5  One Flew Over the Cuckoo's Nest (1975)\n",
       "1       2     1193       5  One Flew Over the Cuckoo's Nest (1975)\n",
       "2      12     1193       4  One Flew Over the Cuckoo's Nest (1975)\n",
       "3      15     1193       4  One Flew Over the Cuckoo's Nest (1975)\n",
       "4      17     1193       5  One Flew Over the Cuckoo's Nest (1975)"
      ]
     },
     "execution_count": 6,
     "metadata": {},
     "output_type": "execute_result"
    }
   ],
   "source": [
    "#Starting the process to remove the lesser known movies to remove noise\n",
    "merge_movie_ratings = pd.merge(ratings,movies,on='MovieID')\n",
    "drop_extra_columns = ['Timestamp','Genres']\n",
    "merge_movie_ratings = merge_movie_ratings.drop(drop_extra_columns,axis=1)\n",
    "merge_movie_ratings.head()"
   ]
  },
  {
   "cell_type": "code",
   "execution_count": 7,
   "metadata": {},
   "outputs": [],
   "source": [
    "merge_movie_ratings = merge_movie_ratings.dropna(axis = 0, subset=['Title'])"
   ]
  },
  {
   "cell_type": "code",
   "execution_count": 8,
   "metadata": {},
   "outputs": [
    {
     "data": {
      "text/html": [
       "<div>\n",
       "<style scoped>\n",
       "    .dataframe tbody tr th:only-of-type {\n",
       "        vertical-align: middle;\n",
       "    }\n",
       "\n",
       "    .dataframe tbody tr th {\n",
       "        vertical-align: top;\n",
       "    }\n",
       "\n",
       "    .dataframe thead th {\n",
       "        text-align: right;\n",
       "    }\n",
       "</style>\n",
       "<table border=\"1\" class=\"dataframe\">\n",
       "  <thead>\n",
       "    <tr style=\"text-align: right;\">\n",
       "      <th></th>\n",
       "      <th>Title</th>\n",
       "      <th>Rating</th>\n",
       "    </tr>\n",
       "  </thead>\n",
       "  <tbody>\n",
       "    <tr>\n",
       "      <th>0</th>\n",
       "      <td>$1,000,000 Duck (1971)</td>\n",
       "      <td>37</td>\n",
       "    </tr>\n",
       "    <tr>\n",
       "      <th>1</th>\n",
       "      <td>'Night Mother (1986)</td>\n",
       "      <td>70</td>\n",
       "    </tr>\n",
       "    <tr>\n",
       "      <th>2</th>\n",
       "      <td>'Til There Was You (1997)</td>\n",
       "      <td>52</td>\n",
       "    </tr>\n",
       "    <tr>\n",
       "      <th>3</th>\n",
       "      <td>'burbs, The (1989)</td>\n",
       "      <td>303</td>\n",
       "    </tr>\n",
       "    <tr>\n",
       "      <th>4</th>\n",
       "      <td>...And Justice for All (1979)</td>\n",
       "      <td>199</td>\n",
       "    </tr>\n",
       "  </tbody>\n",
       "</table>\n",
       "</div>"
      ],
      "text/plain": [
       "                           Title  Rating\n",
       "0         $1,000,000 Duck (1971)      37\n",
       "1           'Night Mother (1986)      70\n",
       "2      'Til There Was You (1997)      52\n",
       "3             'burbs, The (1989)     303\n",
       "4  ...And Justice for All (1979)     199"
      ]
     },
     "execution_count": 8,
     "metadata": {},
     "output_type": "execute_result"
    }
   ],
   "source": [
    "movie_ratingCount = (merge_movie_ratings.groupby(by = ['Title'])['Rating'].count().reset_index())\n",
    "movie_ratingCount.head()"
   ]
  },
  {
   "cell_type": "code",
   "execution_count": 9,
   "metadata": {},
   "outputs": [
    {
     "data": {
      "text/html": [
       "<div>\n",
       "<style scoped>\n",
       "    .dataframe tbody tr th:only-of-type {\n",
       "        vertical-align: middle;\n",
       "    }\n",
       "\n",
       "    .dataframe tbody tr th {\n",
       "        vertical-align: top;\n",
       "    }\n",
       "\n",
       "    .dataframe thead th {\n",
       "        text-align: right;\n",
       "    }\n",
       "</style>\n",
       "<table border=\"1\" class=\"dataframe\">\n",
       "  <thead>\n",
       "    <tr style=\"text-align: right;\">\n",
       "      <th></th>\n",
       "      <th>Title</th>\n",
       "      <th>totalRating</th>\n",
       "    </tr>\n",
       "  </thead>\n",
       "  <tbody>\n",
       "    <tr>\n",
       "      <th>0</th>\n",
       "      <td>$1,000,000 Duck (1971)</td>\n",
       "      <td>37</td>\n",
       "    </tr>\n",
       "    <tr>\n",
       "      <th>1</th>\n",
       "      <td>'Night Mother (1986)</td>\n",
       "      <td>70</td>\n",
       "    </tr>\n",
       "    <tr>\n",
       "      <th>2</th>\n",
       "      <td>'Til There Was You (1997)</td>\n",
       "      <td>52</td>\n",
       "    </tr>\n",
       "    <tr>\n",
       "      <th>3</th>\n",
       "      <td>'burbs, The (1989)</td>\n",
       "      <td>303</td>\n",
       "    </tr>\n",
       "    <tr>\n",
       "      <th>4</th>\n",
       "      <td>...And Justice for All (1979)</td>\n",
       "      <td>199</td>\n",
       "    </tr>\n",
       "  </tbody>\n",
       "</table>\n",
       "</div>"
      ],
      "text/plain": [
       "                           Title  totalRating\n",
       "0         $1,000,000 Duck (1971)           37\n",
       "1           'Night Mother (1986)           70\n",
       "2      'Til There Was You (1997)           52\n",
       "3             'burbs, The (1989)          303\n",
       "4  ...And Justice for All (1979)          199"
      ]
     },
     "execution_count": 9,
     "metadata": {},
     "output_type": "execute_result"
    }
   ],
   "source": [
    "#Now Renaming the columns in movie_ratingCount\n",
    "#movie_ratingCount = movie_ratingCount.rename(columns={'Title':'Rating'})[['movieTitle','totalRating']]\n",
    "movie_ratingCount.columns = ['Title','totalRating']\n",
    "movie_ratingCount.head()"
   ]
  },
  {
   "cell_type": "code",
   "execution_count": 10,
   "metadata": {},
   "outputs": [
    {
     "data": {
      "text/html": [
       "<div>\n",
       "<style scoped>\n",
       "    .dataframe tbody tr th:only-of-type {\n",
       "        vertical-align: middle;\n",
       "    }\n",
       "\n",
       "    .dataframe tbody tr th {\n",
       "        vertical-align: top;\n",
       "    }\n",
       "\n",
       "    .dataframe thead th {\n",
       "        text-align: right;\n",
       "    }\n",
       "</style>\n",
       "<table border=\"1\" class=\"dataframe\">\n",
       "  <thead>\n",
       "    <tr style=\"text-align: right;\">\n",
       "      <th></th>\n",
       "      <th>UserID</th>\n",
       "      <th>MovieID</th>\n",
       "      <th>Rating</th>\n",
       "      <th>Title</th>\n",
       "      <th>totalRating</th>\n",
       "    </tr>\n",
       "  </thead>\n",
       "  <tbody>\n",
       "    <tr>\n",
       "      <th>0</th>\n",
       "      <td>1</td>\n",
       "      <td>1193</td>\n",
       "      <td>5</td>\n",
       "      <td>One Flew Over the Cuckoo's Nest (1975)</td>\n",
       "      <td>1725</td>\n",
       "    </tr>\n",
       "    <tr>\n",
       "      <th>1</th>\n",
       "      <td>2</td>\n",
       "      <td>1193</td>\n",
       "      <td>5</td>\n",
       "      <td>One Flew Over the Cuckoo's Nest (1975)</td>\n",
       "      <td>1725</td>\n",
       "    </tr>\n",
       "    <tr>\n",
       "      <th>2</th>\n",
       "      <td>12</td>\n",
       "      <td>1193</td>\n",
       "      <td>4</td>\n",
       "      <td>One Flew Over the Cuckoo's Nest (1975)</td>\n",
       "      <td>1725</td>\n",
       "    </tr>\n",
       "    <tr>\n",
       "      <th>3</th>\n",
       "      <td>15</td>\n",
       "      <td>1193</td>\n",
       "      <td>4</td>\n",
       "      <td>One Flew Over the Cuckoo's Nest (1975)</td>\n",
       "      <td>1725</td>\n",
       "    </tr>\n",
       "    <tr>\n",
       "      <th>4</th>\n",
       "      <td>17</td>\n",
       "      <td>1193</td>\n",
       "      <td>5</td>\n",
       "      <td>One Flew Over the Cuckoo's Nest (1975)</td>\n",
       "      <td>1725</td>\n",
       "    </tr>\n",
       "  </tbody>\n",
       "</table>\n",
       "</div>"
      ],
      "text/plain": [
       "   UserID  MovieID  Rating                                   Title  \\\n",
       "0       1     1193       5  One Flew Over the Cuckoo's Nest (1975)   \n",
       "1       2     1193       5  One Flew Over the Cuckoo's Nest (1975)   \n",
       "2      12     1193       4  One Flew Over the Cuckoo's Nest (1975)   \n",
       "3      15     1193       4  One Flew Over the Cuckoo's Nest (1975)   \n",
       "4      17     1193       5  One Flew Over the Cuckoo's Nest (1975)   \n",
       "\n",
       "   totalRating  \n",
       "0         1725  \n",
       "1         1725  \n",
       "2         1725  \n",
       "3         1725  \n",
       "4         1725  "
      ]
     },
     "execution_count": 10,
     "metadata": {},
     "output_type": "execute_result"
    }
   ],
   "source": [
    "rating_with_totalRating = merge_movie_ratings.merge(movie_ratingCount,left_on='Title',right_on='Title',how='left')\n",
    "rating_with_totalRating.head()"
   ]
  },
  {
   "cell_type": "code",
   "execution_count": 11,
   "metadata": {},
   "outputs": [],
   "source": [
    "#print(rating_with_totalRating)"
   ]
  },
  {
   "cell_type": "code",
   "execution_count": 12,
   "metadata": {},
   "outputs": [
    {
     "name": "stdout",
     "output_type": "stream",
     "text": [
      "count   3706.000\n",
      "mean     269.889\n",
      "std      384.048\n",
      "min        1.000\n",
      "25%       33.000\n",
      "50%      123.500\n",
      "75%      350.000\n",
      "max     3428.000\n",
      "Name: totalRating, dtype: float64\n"
     ]
    }
   ],
   "source": [
    "pd.set_option('display.float_format', lambda x: '%.3f' % x)\n",
    "print(movie_ratingCount['totalRating'].describe())"
   ]
  },
  {
   "cell_type": "code",
   "execution_count": 13,
   "metadata": {},
   "outputs": [
    {
     "name": "stdout",
     "output_type": "stream",
     "text": [
      "0.900    729.500\n",
      "0.910    773.550\n",
      "0.920    825.000\n",
      "0.930    887.300\n",
      "0.940    971.400\n",
      "0.950   1051.500\n",
      "0.960   1133.800\n",
      "0.970   1268.100\n",
      "0.980   1446.600\n",
      "0.990   1784.900\n",
      "Name: totalRating, dtype: float64\n"
     ]
    }
   ],
   "source": [
    "print(movie_ratingCount['totalRating'].quantile(np.arange(.9,1,.01)))"
   ]
  },
  {
   "cell_type": "code",
   "execution_count": 14,
   "metadata": {},
   "outputs": [
    {
     "ename": "RuntimeError",
     "evalue": "module compiled against API version 0xc but this version of numpy is 0xb",
     "output_type": "error",
     "traceback": [
      "\u001b[1;31m---------------------------------------------------------------------------\u001b[0m",
      "\u001b[1;31mRuntimeError\u001b[0m                              Traceback (most recent call last)",
      "\u001b[1;31mRuntimeError\u001b[0m: module compiled against API version 0xc but this version of numpy is 0xb"
     ]
    },
    {
     "name": "stdout",
     "output_type": "stream",
     "text": [
      "                                                 Title  totalRating\n",
      "3                                   'burbs, The (1989)          303\n",
      "4                        ...And Justice for All (1979)          199\n",
      "6                    10 Things I Hate About You (1999)          700\n",
      "7                                101 Dalmatians (1961)          565\n",
      "8                                101 Dalmatians (1996)          364\n",
      "9                                  12 Angry Men (1957)          616\n",
      "10                            13th Warrior, The (1999)          750\n",
      "12                         2 Days in the Valley (1996)          286\n",
      "13                                     20 Dates (1998)          139\n",
      "14                 20,000 Leagues Under the Sea (1954)          575\n",
      "15                               200 Cigarettes (1999)          181\n",
      "16                        2001: A Space Odyssey (1968)         1716\n",
      "17                                         2010 (1984)          470\n",
      "20                                      28 Days (2000)          505\n",
      "24                                39 Steps, The (1935)          253\n",
      "25      400 Blows, The (Les Quatre cents coups) (1959)          187\n",
      "27                                   52 Pick-Up (1986)          140\n",
      "28                                           54 (1998)          259\n",
      "29                    7th Voyage of Sinbad, The (1958)          258\n",
      "30                                        8 1/2 (1963)          228\n",
      "32                      8 Heads in a Duffel Bag (1997)          145\n",
      "34                                          8MM (1999)          272\n",
      "36        Abbott and Costello Meet Frankenstein (1948)          206\n",
      "39                          About Last Night... (1986)          326\n",
      "41                 Absent Minded Professor, The (1961)          380\n",
      "42                               Absolute Power (1997)          380\n",
      "43                                   Abyss, The (1989)         1715\n",
      "44                   Ace Ventura: Pet Detective (1994)          766\n",
      "45               Ace Ventura: When Nature Calls (1995)          389\n",
      "46                         Aces: Iron Eagle III (1992)          125\n",
      "...                                                ...          ...\n",
      "3641   Wings of Desire (Der Himmel über Berlin) (1987)          242\n",
      "3642                     Wings of the Dove, The (1997)          218\n",
      "3643       Winnie the Pooh and the Blustery Day (1968)          221\n",
      "3644                           Winslow Boy, The (1998)          146\n",
      "3649                                 Wishmaster (1997)          128\n",
      "3652                                With Honors (1994)          228\n",
      "3655                                    Witness (1985)         1046\n",
      "3656                          Wizard of Oz, The (1939)         1718\n",
      "3657                                       Wolf (1994)          272\n",
      "3658                              Wolf Man, The (1941)          134\n",
      "3662  Women on the Verge of a Nervous Breakdown (1988)          353\n",
      "3664                                Wonder Boys (2000)          496\n",
      "3671                               Working Girl (1988)          514\n",
      "3672                   World Is Not Enough, The (1999)          862\n",
      "3675                        Wrong Trousers, The (1993)          882\n",
      "3676                         Wrongfully Accused (1998)          123\n",
      "3677                                 Wyatt Earp (1994)          270\n",
      "3678             X-Files: Fight the Future, The (1998)          996\n",
      "3679                                      X-Men (2000)         1511\n",
      "3685                 Year of Living Dangerously (1982)          391\n",
      "3687                           Yellow Submarine (1968)          399\n",
      "3688                                    Yojimbo (1961)          215\n",
      "3691                            You've Got Mail (1998)          838\n",
      "3693                         Young Frankenstein (1974)         1193\n",
      "3694                                 Young Guns (1988)          562\n",
      "3695                              Young Guns II (1990)          369\n",
      "3697                      Young Sherlock Holmes (1985)          379\n",
      "3699                 Your Friends and Neighbors (1998)          109\n",
      "3702                                Zero Effect (1998)          301\n",
      "3705                                   eXistenZ (1999)          410\n",
      "\n",
      "[2019 rows x 2 columns]\n"
     ]
    }
   ],
   "source": [
    "threshold = 100\n",
    "rating_popular_movie = movie_ratingCount.query('totalRating >= @threshold')\n",
    "print(rating_popular_movie)"
   ]
  },
  {
   "cell_type": "code",
   "execution_count": 15,
   "metadata": {},
   "outputs": [],
   "source": [
    "rating_with_totalRating_pivot = rating_with_totalRating.pivot(index='Title',columns='UserID',values='Rating').fillna(0)\n",
    "rating_with_totalRating_matrix = csr_matrix(rating_with_totalRating_pivot.values)"
   ]
  },
  {
   "cell_type": "code",
   "execution_count": 16,
   "metadata": {},
   "outputs": [],
   "source": [
    "#print(rating_with_totalRating_matrix)"
   ]
  },
  {
   "cell_type": "code",
   "execution_count": 17,
   "metadata": {},
   "outputs": [
    {
     "data": {
      "text/plain": [
       "NearestNeighbors(algorithm='brute', leaf_size=30, metric='cosine',\n",
       "         metric_params=None, n_jobs=None, n_neighbors=5, p=2, radius=1.0)"
      ]
     },
     "execution_count": 17,
     "metadata": {},
     "output_type": "execute_result"
    }
   ],
   "source": [
    "from sklearn.neighbors import NearestNeighbors\n",
    "model_knn = NearestNeighbors(metric='cosine',algorithm = 'brute')\n",
    "model_knn.fit(rating_with_totalRating_matrix)"
   ]
  },
  {
   "cell_type": "code",
   "execution_count": 120,
   "metadata": {},
   "outputs": [],
   "source": [
    "from PIL import Image\n",
    "import matplotlib.pyplot as plt\n",
    "from tmdbv3api import TMDb, Movie\n",
    "from imageio import imread\n",
    "tmdb = TMDb()\n",
    "tmdb.api_key = 'f85a92e0b3635a045d81d26e262c119d'\n",
    "tmdb.language = 'en'\n",
    "tmdb.debug = True\n",
    "m = Movie()\n",
    "prefix = 'https://image.tmdb.org/t/p/w200/'\n"
   ]
  },
  {
   "cell_type": "code",
   "execution_count": 121,
   "metadata": {
    "collapsed": true
   },
   "outputs": [
    {
     "name": "stdout",
     "output_type": "stream",
     "text": [
      "Recommendations for Force of Evil (1948):\n",
      "\n",
      "1: Out of the Past (1947), with distance of 0.6553015365521164:\n"
     ]
    },
    {
     "name": "stderr",
     "output_type": "stream",
     "text": [
      "INFO:tmdbv3api.tmdb:{'page': 1, 'total_results': 3, 'total_pages': 1, 'results': [{'vote_count': 204, 'id': 678, 'video': False, 'vote_average': 7.7, 'title': 'Out of the Past', 'popularity': 9.776, 'poster_path': '/6M1Qeuq0K5THG95S9nzvEIRHsyt.jpg', 'original_language': 'en', 'original_title': 'Out of the Past', 'genre_ids': [18, 9648, 53, 10749], 'backdrop_path': '/aO6MUtT9D1G0LkYHOrxG8itPjiU.jpg', 'adult': False, 'overview': 'Jeff Bailey seems to be a mundane gas station owner in remote Bridgeport, CA. He is dating local girl Ann Miller and lives a quiet life. But Jeff has a secret past, and when a mysterious stranger arrives in town, Jeff is forced to return to the dark world he had tried to escape.', 'release_date': '1947-11-13'}, {'vote_count': 0, 'id': 112111, 'video': False, 'vote_average': 0, 'title': 'Out of the Past', 'popularity': 1.127, 'poster_path': '/w1qo4mipdl8M4Ja1vWCFOkv12it.jpg', 'original_language': 'en', 'original_title': 'Out of the Past', 'genre_ids': [99], 'backdrop_path': None, 'adult': False, 'overview': 'In 1995, Kelli Peterson started a gay and straight club at her Salt Lake City high school. The story of her ensuing battle with school authorities in interspersed with looks back at the diary of Michael Wigglesworth, a 17th-century Puritan cleric, at the 30-year love affair of Sarah Orne Jewett and Annie Adams Fields, at Henry Gerber\\'s attempt after World War I to establish a gay-rights organization, at Bayard Rustin\\'s role in the civil rights movement, and at Barbara Gittings\\' taking on of the American Psychiatric Association\\'s position that homosexuality is illness. One person comments, \"To create a place for ourselves in the present, we have to find ourselves in the past.\"', 'release_date': '1998-07-31'}, {'vote_count': 3, 'id': 198864, 'video': False, 'vote_average': 5.3, 'title': 'The Man from the First Century', 'popularity': 1.4, 'poster_path': '/3oxfpa6rXhW8S2LQFJCHLW5qwGK.jpg', 'original_language': 'cs', 'original_title': 'Muž z prvního století', 'genre_ids': [35, 878], 'backdrop_path': '/yRdHZC8gpXxIY5uoq5iNHDwN8nf.jpg', 'adult': False, 'overview': 'In this routine, allegorical sci-fi drama by Czech director Oldrich Lipsky, a disgruntled worker accidentally finds himself aboard a spaceship (long story), and five hundred years later he comes back with a super-advanced being to a whole new world. He discovers that in his long absence, the world has literally cleaned up well, solved its problems, and is rife with a multitude of technical toys to make life easier. All of these conveniences, however, have not had much effect on the basic foibles that have plagued humanity since cave-dwelling days. Of significance are the names of two of the main characters -- Adam and Eve.', 'release_date': '1962-03-01'}]}\n"
     ]
    },
    {
     "name": "stdout",
     "output_type": "stream",
     "text": [
      "2: Murder, My Sweet (1944), with distance of 0.6594703172351895:\n"
     ]
    },
    {
     "name": "stderr",
     "output_type": "stream",
     "text": [
      "INFO:tmdbv3api.tmdb:{'page': 1, 'total_results': 1, 'total_pages': 1, 'results': [{'vote_count': 79, 'id': 1834, 'video': False, 'vote_average': 7.4, 'title': 'Murder, My Sweet', 'popularity': 5.647, 'poster_path': '/7zWUcJejShfLvj9CsfvtSUJuINB.jpg', 'original_language': 'en', 'original_title': 'Murder, My Sweet', 'genre_ids': [80, 18, 9648, 53], 'backdrop_path': '/guY9nJqHIcqmwWJNQ7xzI0CNDXV.jpg', 'adult': False, 'overview': \"Gumshoe Philip Marlowe is hired by the oafish Moose Malloy to track down his former girlfriend. He's also hired to accompany an effeminate playboy buy back some jewels. When the exchange results in the playboy's murder, Marlowe can't leave the case alone, and soon discovers it's related to Malloy's. As he gets drawn deeper into a complex web of intrigue by a mysterious blonde, the detective finds his own life in increasing jeopardy.\", 'release_date': '1944-12-09'}]}\n"
     ]
    },
    {
     "name": "stdout",
     "output_type": "stream",
     "text": [
      "3: Crossfire (1947), with distance of 0.6839915996557888:\n"
     ]
    },
    {
     "name": "stderr",
     "output_type": "stream",
     "text": [
      "INFO:tmdbv3api.tmdb:{'page': 1, 'total_results': 21, 'total_pages': 2, 'results': [{'vote_count': 42, 'id': 28120, 'video': False, 'vote_average': 6.6, 'title': 'Crossfire', 'popularity': 4.597, 'poster_path': '/gF8ahTXpsqvM6OdC5sqe3K1ncts.jpg', 'original_language': 'en', 'original_title': 'Crossfire', 'genre_ids': [80, 18, 9648, 53], 'backdrop_path': '/wYHTUAmtSmjjsFeXNdN2WwkvHPn.jpg', 'adult': False, 'overview': 'A man is murdered, apparently by one of a group of soldiers just out of the army. But which one? And why?', 'release_date': '1947-08-15'}, {'vote_count': 14, 'id': 423878, 'video': False, 'vote_average': 5, 'title': 'Crossfire', 'popularity': 3.359, 'poster_path': '/enaA9kvPGai5jRMGw4M1J01lmu2.jpg', 'original_language': 'en', 'original_title': 'Crossfire', 'genre_ids': [18, 53, 10770], 'backdrop_path': '/cZG8ubpcnBKF2nzmtQWQe01uzcL.jpg', 'adult': False, 'overview': \"When National Guard soldier Samantha Harrison returns from the front lines of Iraq, she realizes that none of her training helps her deal with PTSD or the struggles of returning to a normal life. Samantha comes home to find out she's being blamed for a friendly fire incident that killed two Americans and she becomes the target of an obsessed soldier seeking revenge for their deaths. She tries to reassemble her fragmented memories of that horrific night in order to convince everyone, including herself, that she didn't do it. Who do you turn to when you can't trust your own memories and the few people you do trust are being killed off one by one?\", 'release_date': '2016-01-31'}, {'vote_count': 0, 'id': 513692, 'video': False, 'vote_average': 0, 'title': 'Crossfire', 'popularity': 2.311, 'poster_path': '/3YVIQdq4yXvw20E3bsbv5mpw4vK.jpg', 'original_language': 'cn', 'original_title': 'Fo Ping', 'genre_ids': [28, 80], 'backdrop_path': None, 'adult': False, 'overview': 'A former Hong Kong police inspector travels to South America to rescue his kidnapped wife.', 'release_date': '2019-08-01'}, {'vote_count': 0, 'id': 459548, 'video': False, 'vote_average': 0, 'title': 'Crossfire', 'popularity': 1.47, 'poster_path': '/hiTjgozdzJOSUEDAK2q6EdzWWS2.jpg', 'original_language': 'bn', 'original_title': 'দহন', 'genre_ids': [18], 'backdrop_path': None, 'adult': False, 'overview': \"On her way home the newly wed Romita is molested by five men. The only one who has the courage to help is the young female teacher Jhinuk. Because of that she becomes a heroine and is on all papers' front page. But the page is turning: As not only the police but also neighbours begin to ask embarrassing questions the two women are eventually intimidated and the five man are getting free with the help of corruption and male domination.\", 'release_date': '1997-01-01'}, {'vote_count': 0, 'id': 610911, 'video': False, 'vote_average': 0, 'title': 'Crossfire', 'popularity': 1.09, 'poster_path': None, 'original_language': 'en', 'original_title': 'Crossfire', 'genre_ids': [18], 'backdrop_path': None, 'adult': False, 'overview': \"Shelly, a young American girl, is attracted to two men for their idealism. One is a missionary, out to change the world through the power of God's word. The other is a terrorist, who plans to change the world through bombs.\", 'release_date': '1979-06-01'}, {'vote_count': 11, 'id': 41042, 'video': False, 'vote_average': 4.7, 'title': 'Caught in the Crossfire', 'popularity': 4.318, 'poster_path': '/8tKIkrNCt0nR8bPKGnJnq6cGbKv.jpg', 'original_language': 'en', 'original_title': 'Caught in the Crossfire', 'genre_ids': [28, 12, 80, 18, 53], 'backdrop_path': '/jcdy0YsyP3aPFvXL9HRcQfATImI.jpg', 'adult': False, 'overview': 'Two detectives investigating a gang-related find themselves targeted by both gang members and crooked cops.', 'release_date': '2010-07-13'}, {'vote_count': 25, 'id': 137285, 'video': False, 'vote_average': 7.3, 'title': 'Crossfire Hurricane', 'popularity': 1.96, 'poster_path': '/7rGmjuPjtddvMcfrvaRuxIzCUew.jpg', 'original_language': 'en', 'original_title': 'Crossfire Hurricane', 'genre_ids': [99, 10402], 'backdrop_path': '/xj4pUekCQacREpdA9JdxhWgZAdl.jpg', 'adult': False, 'overview': 'This film is released as part of the ongoing 50th anniversary celebration of the Rolling Stones. It tells the story of the Stones\\' unparalleled journey from blues obsessed teens in the early 60s to their undisputed status as rock royalty. All of the Stones have been newly interviewed and their words form the narrative arc that links together archive footage of performances, news coverage, and interviews, much of it previously unseen. Taking its title from a lyric in \"Jumpin\\' Jack Flash,\" this film gives the viewer an intimate insight into exactly what it\\'s like to be part of the Rolling Stones as they overcome denunciation, drugs, dissensions, and death to become the definitive survivors. Over a year in the making and produced with the full cooperation and involvement of the Stones, this film is and will remain the definitive story of the world\\'s greatest rock \\'n\\' roll band', 'release_date': '2012-10-18'}, {'vote_count': 11, 'id': 35381, 'video': False, 'vote_average': 6.2, 'title': 'Crossfire Trail', 'popularity': 1.922, 'poster_path': '/nWFOBdMabfDUF5Qk8wEPNy9hpAR.jpg', 'original_language': 'en', 'original_title': 'Crossfire Trail', 'genre_ids': [18, 10749, 53, 37, 28, 10770], 'backdrop_path': '/vgDZiKJns6F6NdCWTFxCiusATm7.jpg', 'adult': False, 'overview': \"Rafe Covington is as good as his word, and he's determined to keep his promise to a dying man that he'll look after the man's widow and Wyoming ranch. But the widow doubts the integrity of drifter Covington. And an unscrupulous land grabber and his gunmen are sizing up the ranch the way a spider eyes a fly.\", 'release_date': '2001-01-21'}, {'vote_count': 6, 'id': 45474, 'video': False, 'vote_average': 4.9, 'title': 'Crossfire', 'popularity': 2.248, 'poster_path': '/hEgSgFGp4Ua5htKYuk6CA4ihwXb.jpg', 'original_language': 'ja', 'original_title': 'クロスファイア', 'genre_ids': [53, 27, 28], 'backdrop_path': '/qIj7PF4XYbhUUyqxCbPSrqSZEvr.jpg', 'adult': False, 'overview': \"Junko was born with a type of ESP called pyrokinesis which she can use to incinerate anyone and anything at will. Junko is secretly in love with Kazuki, a young man who works with her. His sister is killed and a boy named Masaki suspected but the police don't arrest him. Junko tells Kazuki about her powers and takes revenge.\", 'release_date': '2000-06-10'}, {'vote_count': 0, 'id': 594038, 'video': False, 'vote_average': 0, 'title': 'Crossfire', 'popularity': 0.6, 'poster_path': '/rkIARTKPgc6DRzoZcS0ML9opWAH.jpg', 'original_language': 'en', 'original_title': 'Crossfire', 'genre_ids': [], 'backdrop_path': None, 'adult': False, 'overview': \"Seeking retribution for the accidental death of his family, a wealthy businessman dealing in illegal arms smuggling attempts to destroy one of America's most treasured symbols: the Statue of Liberty\", 'release_date': ''}, {'vote_count': 8, 'id': 26559, 'video': False, 'vote_average': 5.6, 'title': 'Crossfire', 'popularity': 1.173, 'poster_path': '/kPb8ANtEFSreg5lfs1Qk5yynEN4.jpg', 'original_language': 'fr', 'original_title': 'Les Insoumis', 'genre_ids': [53, 18], 'backdrop_path': '/c8Xrw8UpN79xC22C8Zhc8zsczUV.jpg', 'adult': False, 'overview': 'A grizzled Parisian detective is sent to an outpost town in Southern France to dismantle a gang of killers which has freed a notorious criminal. The detective inherits a team of unmotivated and dishevelled detectives, and he makes connections nobody else ever saw because nobody else bothered to look. A mysterious, charismatic figure, he leads by example, and gradually his team begins to feel like cops again.', 'release_date': '2008-06-11'}, {'vote_count': 0, 'id': 614735, 'video': False, 'vote_average': 0, 'title': 'Bojayá: Caught in the Crossfire', 'popularity': 0.946, 'poster_path': None, 'original_language': 'es', 'original_title': 'Bojayá: Caught in the Crossfire', 'genre_ids': [99], 'backdrop_path': None, 'adult': False, 'overview': 'In 2002, 79 people died when The Revolutionary Armed Forces of Colombia – People’s Army (FARC) launched a homemade mortar onto a church where many were hiding from crossfire between the FARC and the Paramilitaries. Leyner Palacios survived, but 28 of his family members did not. When peace between the government and the FARC was signed in 2016, after 50 years of conflict, Leyner made it his mission to ensure the peace deal was implemented to his people’s benefit, receiving a Nobel Peace Prize in the process. But, as the FARC demobilise, other armed groups seek to fill the power vacuum, and political pressure through presidential elections puts Leyner’s work, and life, at risk. Will this poster boy of peace be able to protect his family from another wave of violence?', 'release_date': '2019-04-28'}, {'vote_count': 0, 'id': 423069, 'video': False, 'vote_average': 0, 'title': 'Moment of Truth: Caught in the Crossfire', 'popularity': 1.096, 'poster_path': None, 'original_language': 'en', 'original_title': 'Moment of Truth: Caught in the Crossfire', 'genre_ids': [], 'backdrop_path': None, 'adult': False, 'overview': 'An undercover reporter named Gus finds work with the FBI, but soon he gets into a difficult situation and the FBI ignores it.', 'release_date': '1994-09-14'}, {'vote_count': 0, 'id': 353652, 'video': False, 'vote_average': 0, 'title': 'Crossfire: Hate Is Like a Gun', 'popularity': 1.092, 'poster_path': None, 'original_language': 'en', 'original_title': 'Crossfire: Hate Is Like a Gun', 'genre_ids': [99], 'backdrop_path': None, 'adult': False, 'overview': 'The making of Edward Dmytryk\\'s \"Crossfire\"', 'release_date': '2005-07-05'}, {'vote_count': 1, 'id': 255563, 'video': False, 'vote_average': 7, 'title': 'Children in the Crossfire', 'popularity': 0.6, 'poster_path': '/bnTvT3dHnMisls19nu1WLYXAbbU.jpg', 'original_language': 'en', 'original_title': 'Children in the Crossfire', 'genre_ids': [], 'backdrop_path': None, 'adult': False, 'overview': 'For the children of Northern Ireland, violence and hatred are a way of life passed from one generation to the next. In \"Children in the Crossfire\" four children from both sides of the conflict come to America through a special project, and discover each other away from the ravages of their homeland.', 'release_date': '1985-01-02'}, {'vote_count': 2, 'id': 306327, 'video': False, 'vote_average': 5, 'title': 'Crossfire: The Plot that Killed Kennedy', 'popularity': 0.918, 'poster_path': None, 'original_language': 'en', 'original_title': 'Crossfire: The Plot that Killed Kennedy', 'genre_ids': [], 'backdrop_path': None, 'adult': False, 'overview': \"Jim Marrs' best selling book comes to Film taking you deep into the conspiracy of John F. Kennedy's untimely death with visual and factual information that rules out the lone assassination theory. Jim Marrs takes you through the most important historical event of the 20th century - the assassination of a United States President.\", 'release_date': '2014-10-14'}, {'vote_count': 0, 'id': 113242, 'video': False, 'vote_average': 0, 'title': 'Stevie Ray Vaughan Crossfire-live', 'popularity': 0.6, 'poster_path': '/hUYKAXQ8bJryQ38iaO40KjahXfU.jpg', 'original_language': 'en', 'original_title': 'Stevie Ray Vaughan Crossfire-live', 'genre_ids': [], 'backdrop_path': None, 'adult': False, 'overview': 'Texas flood; Voodoo Chile; Pride And Joy; The House Is Rocking; You Better Leave My Gal Alone; Cold Shot; Crossfire; Tightrope; Big Tex Blues', 'release_date': ''}, {'vote_count': 92, 'id': 122800, 'video': False, 'vote_average': 4.9, 'title': 'Freelancers', 'popularity': 11.642, 'poster_path': '/lD873UzYdfcr4AKcPKZsUFlwtWm.jpg', 'original_language': 'en', 'original_title': 'Freelancers', 'genre_ids': [9648, 18, 28, 80], 'backdrop_path': '/1nNLDqtpRNro69b8Lzvk53YjjI7.jpg', 'adult': False, 'overview': \"The son of a slain NYPD officer joins the force, where he falls in with his father's former partner and a team of rogue cops. His new boss, Sarcone, will see if he has what it takes to be rogue through many trials and tribulations of loyalty, trust and respect. When the truth about his father's death is revealed revenge takes him over and he won't stop until justice has been truly served.\", 'release_date': '2012-08-10'}, {'vote_count': 2, 'id': 311999, 'video': False, 'vote_average': 5.5, 'title': 'In the Line of Duty: Street War', 'popularity': 1.02, 'poster_path': '/unoODDvAvZlc5ujLz2Tipt8LUY.jpg', 'original_language': 'en', 'original_title': 'In the Line of Duty: Street War', 'genre_ids': [28, 18, 53, 10770], 'backdrop_path': None, 'adult': False, 'overview': \"In this gritty cops-and-crooks drama, two detectives hunt a gang leader suspected of murdering a New York cop. The detectives enlist the help of the dead cop's partner, who is also the brother of the gangster. There's nothing civil about this war that has two brothers squaring off against each other. The strong cast includes Mario Van Peebles, Ray Sharkey and Peter Boyle.\", 'release_date': '1992-05-11'}, {'vote_count': 4, 'id': 95429, 'video': False, 'vote_average': 5.5, 'title': 'Quick', 'popularity': 1.96, 'poster_path': '/lDTimwg70vXazn6CApwlu8M2lwc.jpg', 'original_language': 'en', 'original_title': 'Quick', 'genre_ids': [28, 80], 'backdrop_path': None, 'adult': False, 'overview': 'A female assassin named \"Quick\" is hired to bring in a Mafia accountant, who is under police protection. Double crossed by the mafia, she takes her hostage to California to retrieve $3M that he took before running. The mafia and Quick\\'s untrustworthy boyfriend are on the trail.', 'release_date': '1993-08-30'}]}\n"
     ]
    },
    {
     "name": "stdout",
     "output_type": "stream",
     "text": [
      "4: Gilda (1946), with distance of 0.7186485690864213:\n"
     ]
    },
    {
     "name": "stderr",
     "output_type": "stream",
     "text": [
      "INFO:tmdbv3api.tmdb:{'page': 1, 'total_results': 12, 'total_pages': 1, 'results': [{'vote_count': 215, 'id': 3767, 'video': False, 'vote_average': 7.7, 'title': 'Gilda', 'popularity': 9.479, 'poster_path': '/hz2gG5D3GHaaPZUSnRNjMC3Wl1r.jpg', 'original_language': 'en', 'original_title': 'Gilda', 'genre_ids': [18, 10749, 53], 'backdrop_path': '/tCqI3EtSxVxgddWeQtyaT1rRlYf.jpg', 'adult': False, 'overview': \"A gambler discovers an old flame while in Argentina, but she's married to his new boss.\", 'release_date': '1946-02-14'}, {'vote_count': 17, 'id': 511972, 'video': False, 'vote_average': 7.2, 'title': 'Love, Gilda', 'popularity': 4.879, 'poster_path': '/jJVp7JvPkFLeXKuS2YSLIC2zuK4.jpg', 'original_language': 'en', 'original_title': 'Love, Gilda', 'genre_ids': [99], 'backdrop_path': '/lWRt82Uc5AU2TKyeyQjUrRsv9Eg.jpg', 'adult': False, 'overview': 'Diaries, audiotapes, videotapes and testimonies from friends and colleagues offer insight into the life and career of Gilda Radner -- the beloved comic and actress who became an icon on Saturday Night Live.', 'release_date': '2018-04-18'}, {'vote_count': 3, 'id': 97415, 'video': False, 'vote_average': 6.7, 'title': 'Gilda Live', 'popularity': 1.4, 'poster_path': '/dyGN2GIiznPmLg5sRlDol061Cgp.jpg', 'original_language': 'en', 'original_title': 'Gilda Live', 'genre_ids': [35], 'backdrop_path': '/6VkFLze2acZHusuxpKdx5optF5f.jpg', 'adult': False, 'overview': 'A filmed version of the Broadway show starring comedienne Gilda Radner, complete with the characters she made famous on the TV show \"Saturday Night Live.\"', 'release_date': '1980-03-28'}, {'vote_count': 10, 'id': 416680, 'video': False, 'vote_average': 6, 'title': \"I'm Gilda\", 'popularity': 1.96, 'poster_path': '/fYYiNfsrBF8sVKV0X8KdRhtoYLu.jpg', 'original_language': 'es', 'original_title': 'Gilda, no me arrepiento de este amor', 'genre_ids': [18, 10402], 'backdrop_path': '/cJxfnKKd8XEhpJXF4X2D56WxYZq.jpg', 'adult': False, 'overview': 'The life and death of the tropical singer Gilda.', 'release_date': '2016-09-15'}, {'vote_count': 0, 'id': 370470, 'video': False, 'vote_average': 0, 'title': 'Io Gilda', 'popularity': 0.844, 'poster_path': '/lR6v6zTrVbDqzSLvuqjnCji1Qo1.jpg', 'original_language': 'en', 'original_title': 'Io Gilda', 'genre_ids': [], 'backdrop_path': None, 'adult': False, 'overview': 'A New York mafia boss who owns a nightclub blackmails the women. Among the nightclub girls is Lulu who discovers her friend Gina is being blackmailed. Gina aka Gilda another nightclub girl lives out a fantasy as her Idol Rita Hayworth and romances her limo driver and risks being discovered by her boyfriend.', 'release_date': '1989-04-14'}, {'vote_count': 4, 'id': 266035, 'video': False, 'vote_average': 3.3, 'title': 'Scandalous Gilda', 'popularity': 0.839, 'poster_path': '/h9ULWYQVTxRsaMC6fy10S86Nj9o.jpg', 'original_language': 'it', 'original_title': 'Scandalosa Gilda', 'genre_ids': [18], 'backdrop_path': '/pTtmnLoyhMXk30BrkJk3L9Uk3Xw.jpg', 'adult': False, 'overview': 'A woman catches her husband in bed with a much younger lady. Shocked and distraught, the woman leaves her husband. She decides to embark on a road trip of erotic self discovery. The woman meets a cartoonist during her sensual pilgrimage and gets involved in a torrid sexual affair with him.', 'release_date': '1985-11-11'}, {'vote_count': 1, 'id': 117956, 'video': False, 'vote_average': 8, 'title': \"Gilda Radner: It's Always Something\", 'popularity': 1.4, 'poster_path': '/i3pUwMORXxTf44HuPZi3WQHl8dE.jpg', 'original_language': 'en', 'original_title': \"Gilda Radner: It's Always Something\", 'genre_ids': [], 'backdrop_path': None, 'adult': False, 'overview': 'Biopic about the late \"Saturday Night Live\" star Gilda Radner. Gilda tells her own story, beginning with her childhood as a chubby girl who loved to perform with her dad, and her early years at Second City in Toronto. There she honed her comedic chops along with John Belushi, Dan Aykroyd and Bill Murray, all four of whom eventually left for New York to become part of the Not Ready For Primetime Players on \"Sautrday Night Live.\" The movie also chronicles Gilda\\'s lifelong quest to find true love, which she eventually found with Gene Wilder, and how she used her comic genius to inspire women in their fight against cancer. The actress died in 1989 of ovarian cancer at age 42.', 'release_date': '2002-04-29'}, {'vote_count': 0, 'id': 279989, 'video': True, 'vote_average': 0, 'title': 'Gilda Radner', 'popularity': 0.6, 'poster_path': None, 'original_language': 'en', 'original_title': 'Gilda Radner', 'genre_ids': [], 'backdrop_path': None, 'adult': False, 'overview': 'In 1979, Gilda Radner threw a summerlong party at Broadway Winter Garden Theatre. Everybody came: Lisa Loopner, Judy Miller, Emily Litella, Rhonda and the Rhondettes, Candy Slice, Roseanne Roseannadanna. And many thousands of cheering theatergoers celebrating Gilda hilarious, knockout Brodway debut. Filmed by another award-winning stage/screen comedy legend, director Mike Nichols, Gilda Live showcases the comedienne Saturday Night Live alter-egos in edgy, crazy material not even the Not Ready for Prime Time Players were ready for. Also on hand are Late Night with David Letterman Paul Shaffer, playing straight man and playing up a musical storm, and Father Guido Sarducci, ever the irreverent reverend. Join them as the late, great Gilda does what she does best be flat-out funny.', 'release_date': ''}, {'vote_count': 0, 'id': 555469, 'video': False, 'vote_average': 0, 'title': 'Gilda Brasileiro - Contra o Esquecimento', 'popularity': 0.906, 'poster_path': '/pUZy2TuKa23ix9XuljgOc5d26Bs.jpg', 'original_language': 'pt', 'original_title': 'Gilda Brasileiro - Contra o Esquecimento', 'genre_ids': [], 'backdrop_path': None, 'adult': False, 'overview': '', 'release_date': '2018-10-18'}, {'vote_count': 0, 'id': 352874, 'video': True, 'vote_average': 0, 'title': 'Saturday Night Live: The Best of Gilda Radner', 'popularity': 0.6, 'poster_path': '/fr8tDEdfxM5vhYAf2Fwy4NSRY5P.jpg', 'original_language': 'en', 'original_title': 'Saturday Night Live: The Best of Gilda Radner', 'genre_ids': [], 'backdrop_path': None, 'adult': False, 'overview': \"A compilation of Gilda Radner's funniest skits and most memorable characters from the first five years of Saturday Night Live.\", 'release_date': '2005-09-06'}, {'vote_count': 1, 'id': 526397, 'video': False, 'vote_average': 8, 'title': 'Gildas a quelque chose à nous dire', 'popularity': 0.893, 'poster_path': '/poOGkBtsISaaLFdyapgb0Nwnt8N.jpg', 'original_language': 'fr', 'original_title': 'Gildas a quelque chose à nous dire', 'genre_ids': [99], 'backdrop_path': None, 'adult': False, 'overview': 'My big brother went away to soon, without a word. Actually, he never could speak, nor could he walk. I never knew what he could see or hear. Or if he really loved me. So before our uncertainties and regrets settle forever, we, his two little brothers, decided to finish the film we had started with him during the last year of his life, hoping to find a word or a look that would prove it to us, once and for all.', 'release_date': '2016-11-23'}, {'vote_count': 2, 'id': 193028, 'video': False, 'vote_average': 6.5, 'title': 'Madregilda', 'popularity': 0.909, 'poster_path': '/p89iPflB29CVyc0Wv2Ddltf8QtN.jpg', 'original_language': 'es', 'original_title': 'Madregilda', 'genre_ids': [35, 18], 'backdrop_path': None, 'adult': False, 'overview': '', 'release_date': '1993-09-26'}]}\n"
     ]
    },
    {
     "name": "stdout",
     "output_type": "stream",
     "text": [
      "5: Lady Eve, The (1941), with distance of 0.7297070935991997:\n"
     ]
    },
    {
     "name": "stderr",
     "output_type": "stream",
     "text": [
      "INFO:tmdbv3api.tmdb:{'page': 1, 'total_results': 4, 'total_pages': 1, 'results': [{'vote_count': 135, 'id': 3086, 'video': False, 'vote_average': 7.4, 'title': 'The Lady Eve', 'popularity': 8.176, 'poster_path': '/lJYD3CMgKtv12hazSHc7xt3i2uq.jpg', 'original_language': 'en', 'original_title': 'The Lady Eve', 'genre_ids': [35, 10749], 'backdrop_path': '/mcBllhz7mbnlzEZLJhge0YbPSR.jpg', 'adult': False, 'overview': \"It's no accident when wealthy Charles falls for Jean. Jean is a con artist with her sights set on Charles' fortune. Matters complicate when Jean starts falling for her mark. When Charles suspects Jean is a gold digger, he dumps her. Jean, fixated on revenge and still pining for the millionaire, devises a plan to get back in Charles' life. With love and payback on her mind, she re-introduces herself to Charles, this time as an aristocrat named Lady Eve Sidwich.\", 'release_date': '1941-02-25'}, {'vote_count': 0, 'id': 241026, 'video': False, 'vote_average': 0, 'title': 'More Loverly Than Ever: The Making of My Fair Lady', 'popularity': 0.841, 'poster_path': None, 'original_language': 'en', 'original_title': 'More Loverly Than Ever: The Making of My Fair Lady', 'genre_ids': [], 'backdrop_path': None, 'adult': False, 'overview': '30th anniversary documentary about the film musical.', 'release_date': '1995-12-30'}, {'vote_count': 0, 'id': 387368, 'video': False, 'vote_average': 0, 'title': \"La signora dall'eterno sorriso\", 'popularity': 0.6, 'poster_path': None, 'original_language': 'en', 'original_title': \"La signora dall'eterno sorriso\", 'genre_ids': [], 'backdrop_path': None, 'adult': False, 'overview': 'Italian peeping toms.', 'release_date': '1912-06-12'}, {'vote_count': 1, 'id': 254493, 'video': False, 'vote_average': 5, 'title': 'Yellow Emmanuelle', 'popularity': 1.572, 'poster_path': '/6IhGJotkCqvfjSkMVKFG0Q36mQC.jpg', 'original_language': 'it', 'original_title': 'Il mondo dei sensi di Emy Wong', 'genre_ids': [18], 'backdrop_path': '/qaqnfwIyMeLJAJ53FjN6BIsx5m9.jpg', 'adult': False, 'overview': \"In this sexpolitation effort, a British pilot is assaulted by a gang of hoodlums and left on the street. He's eventually taken to a hospital, where he is nursed back to health by Dr. Emy Wong, a beautiful Asian physician. As the pilot is restored to full health, he becomes increasingly infatuated with Emy.\", 'release_date': '1977-01-07'}]}\n"
     ]
    },
    {
     "name": "stdout",
     "output_type": "stream",
     "text": [
      "6: Asphalt Jungle, The (1950), with distance of 0.7299436901543591:\n"
     ]
    },
    {
     "name": "stderr",
     "output_type": "stream",
     "text": [
      "INFO:tmdbv3api.tmdb:{'page': 1, 'total_results': 1, 'total_pages': 1, 'results': [{'vote_count': 180, 'id': 16958, 'video': False, 'vote_average': 7.6, 'title': 'The Asphalt Jungle', 'popularity': 9.022, 'poster_path': '/kIkPJnMVvFPt08siIJB5G8h8WDO.jpg', 'original_language': 'en', 'original_title': 'The Asphalt Jungle', 'genre_ids': [80, 18], 'backdrop_path': '/tJMttP21HHBkcp1QR5UCmBddgVP.jpg', 'adult': False, 'overview': 'Recently paroled from prison, legendary burglar \"Doc\" Riedenschneider, with funding from Alonzo Emmerich, a crooked lawyer, gathers a small group of veteran criminals together in the Midwest for a big jewel heist.', 'release_date': '1950-05-22'}]}\n"
     ]
    },
    {
     "name": "stdout",
     "output_type": "stream",
     "text": [
      "7: Six of a Kind (1934), with distance of 0.7317008464462376:\n"
     ]
    },
    {
     "name": "stderr",
     "output_type": "stream",
     "text": [
      "INFO:tmdbv3api.tmdb:{'page': 1, 'total_results': 1, 'total_pages': 1, 'results': [{'vote_count': 2, 'id': 127973, 'video': False, 'vote_average': 7, 'title': 'Six of a Kind', 'popularity': 0.948, 'poster_path': '/jgFaWCqzv27kzscpAM6sSHPjuz7.jpg', 'original_language': 'en', 'original_title': 'Six of a Kind', 'genre_ids': [35], 'backdrop_path': '/xPA8OU74hm5YEKiBuDqMxFAAv5M.jpg', 'adult': False, 'overview': \"The Whinneys share expenses for their trip to Hollywood with George and Gracie and their great Dane. A clerk in Whinney's bank has put fifty thousand dollars in a suitcase, hoping to rob Whinney on the road, but instead Whinney takes another road and is himself arrested in Nevada.\", 'release_date': '1934-02-09'}]}\n"
     ]
    },
    {
     "name": "stdout",
     "output_type": "stream",
     "text": [
      "8: Macao (1952), with distance of 0.7504868553792778:\n"
     ]
    },
    {
     "name": "stderr",
     "output_type": "stream",
     "text": [
      "INFO:tmdbv3api.tmdb:{'page': 1, 'total_results': 13, 'total_pages': 1, 'results': [{'vote_count': 12, 'id': 26282, 'video': False, 'vote_average': 5.9, 'title': 'Macao', 'popularity': 3.171, 'poster_path': '/1hvGaESoUw1nIXOr3mI1hWYmvtr.jpg', 'original_language': 'en', 'original_title': 'Macao', 'genre_ids': [12, 18, 10749], 'backdrop_path': '/tuSnADcaBbP9YmjdZ8b8Eh2Z0EZ.jpg', 'adult': False, 'overview': 'A man on the run in the Far East is mistaken for an undercover cop.', 'release_date': '1952-04-30'}, {'vote_count': 1, 'id': 591268, 'video': False, 'vote_average': 10, 'title': 'The Dragon of Macao', 'popularity': 3.601, 'poster_path': '/pxbdLluLnWvc9zmI6tZhKDL2OOZ.jpg', 'original_language': 'ja', 'original_title': 'マカオの竜', 'genre_ids': [80, 28], 'backdrop_path': '/sDLuxKaCAdkVfuSpDs0x10ik8qy.jpg', 'adult': False, 'overview': 'Ryu (Akira Kobayashi) sets foot on the Yokohama port with a suitcase filled with 300 thousand dollars. He was sent by a jewelry company in Hong Kong to retrieve a certain diamond that was stolen from them. The \"Himalayan Star\" is worth couple hundred million yen and unbeknown to Ryu, it now lays in the hands of Aizu (Jo Shishido), the infamous ”Pirate of the Tokyo Bay.\"', 'release_date': '1965-12-18'}, {'vote_count': 4, 'id': 27399, 'video': False, 'vote_average': 6.3, 'title': 'Forbidden', 'popularity': 2.113, 'poster_path': '/rNAqcCtBQO2UmvWx9DkRQGTwM8J.jpg', 'original_language': 'en', 'original_title': 'Forbidden', 'genre_ids': [18, 80], 'backdrop_path': '/uihStxanPYYEfutEUIIAvL3ppUw.jpg', 'adult': False, 'overview': 'Forbidden bears traces of several earlier film noirs, with Tony Curtis filling the shoes vacated by the likes of Alan Ladd, Dick Powell and Robert Mitchum. Curtis acquits himself very nicely as a small-time hood sent to Macao by gangster Lyle Bettger to locate Joanne Dru, the widow of another gangster.', 'release_date': '1953-12-02'}, {'vote_count': 2, 'id': 354156, 'video': False, 'vote_average': 7.5, 'title': 'Gambling Hell', 'popularity': 1.96, 'poster_path': '/vK9Zv7md7ErTCUr1b4nOWe27PvD.jpg', 'original_language': 'fr', 'original_title': \"Macao, l'enfer du jeu\", 'genre_ids': [12, 53, 18], 'backdrop_path': None, 'adult': False, 'overview': 'A thriller about gunrunners in the Far East co-starring Erich von Stroheim and Sessue Hayakawa. When the Germans occupied France, the director was forced to replace von Stroheim with Pierre Renoir and re-shoot several sequences in order to secure distribution.', 'release_date': '1942-12-09'}, {'vote_count': 3, 'id': 321673, 'video': False, 'vote_average': 5.8, 'title': 'The Corrupt Ones', 'popularity': 1.551, 'poster_path': '/a4Ygefr3MUBE9VboA3DFzbPIMe3.jpg', 'original_language': 'en', 'original_title': 'Die Hölle von Macao', 'genre_ids': [12, 80], 'backdrop_path': '/6ixmpKUrafTpC9EjwJHA9sT4mTr.jpg', 'adult': False, 'overview': 'Freelance photographer Cliff Wilder (Robert Stack) finds himself the target of various colorful villains in this quest for an ancient Chinese treasure when he accidentally acquires the key to its location, the Peking medallion.', 'release_date': '1967-01-20'}, {'vote_count': 0, 'id': 499798, 'video': False, 'vote_average': 0, 'title': 'Dancing Master 2: Macao Connection', 'popularity': 1.4, 'poster_path': '/zmD0UR9QKvy54d4E5ivDm1lGBWy.jpg', 'original_language': 'tl', 'original_title': 'Dancing Master 2: Macao Connection', 'genre_ids': [35, 28], 'backdrop_path': None, 'adult': False, 'overview': 'Dancing master part 2 starred by Dolphy.', 'release_date': '1982-09-18'}, {'vote_count': 0, 'id': 354332, 'video': False, 'vote_average': 0, 'title': \"Smuggler's Island\", 'popularity': 1.378, 'poster_path': '/nWfkf2F28zvqNk66fgBpZP3VjhE.jpg', 'original_language': 'en', 'original_title': \"Smuggler's Island\", 'genre_ids': [12, 10749, 80, 18], 'backdrop_path': '/rKEMD5nBDae8P56Zx2Mo3k2fgx5.jpg', 'adult': False, 'overview': 'An adventurer about to lose his sloop and diving equipment agrees to dive for illegal gold.', 'release_date': '1951-05-18'}, {'vote_count': 5, 'id': 128120, 'video': False, 'vote_average': 6, 'title': 'The Last Time I Saw Macao', 'popularity': 0.866, 'poster_path': '/nCSrc6XvxguzgnDFw31qSvq7aPD.jpg', 'original_language': 'pt', 'original_title': 'A Última Vez Que Vi Macau', 'genre_ids': [99, 53], 'backdrop_path': '/rtq4t8CNuDzOSCb01h9CEDhsk6b.jpg', 'adult': False, 'overview': \"Part memoir, part city symphony, part noir-ish B-movie adventure, the new feature from critically acclaimed film-making duo João Pedro Rodrigues and João Rui Guerra da Mata (To Die Like a Man) is a sensual, shape-shifting ode to one of the world's most mythic, alluring and exoticized cities.\", 'release_date': '2012-08-06'}, {'vote_count': 25, 'id': 252168, 'video': False, 'vote_average': 4.9, 'title': 'From Vegas to Macau', 'popularity': 4.733, 'poster_path': '/r70QIRIskJBGqyNwygT7OeVBewh.jpg', 'original_language': 'cn', 'original_title': '賭城風雲', 'genre_ids': [35, 28], 'backdrop_path': '/l12fY9m8FxtRUAlB837cGN6Uu5j.jpg', 'adult': False, 'overview': 'The world renowned “Invincible Hand” Ken could identify not only mahjong tiles, but also cards with his fingers which had made him a legend. Upon his retirement as the Chief Security Consultant in Las Vegas, Ken returned to his hometown Macau, where he met his old friend Benz, and Benz’s son Cool and nephew Karl. Both Cool and Karl wanted to follow Ken. Ken claimed that if Cool could successfully cheat him once or win over him, he would then accept Cool as his protégé. Cool’s step brother Lionel, an undercover agent, had disguised his identity in an international gambling mafia which had planned to form an alliance with mafias in illegal gambling from all over the world to control the result of soccer matches. Lionel had recorded the entire conference, with the criminal evidence kept in an imitated eye. The eye was coincidentally given to Rainbow, Ken’s only daughter, which put her in danger. The retired Ken was forced to use his “Magic Hand” once again to uncover the evil plan…', 'release_date': '2014-01-30'}, {'vote_count': 0, 'id': 563313, 'video': False, 'vote_average': 0, 'title': 'Via Macau', 'popularity': 0.6, 'poster_path': '/ioz5WVdKZUGulz3aVHOhMFvNN8J.jpg', 'original_language': 'fr', 'original_title': 'Via Macau', 'genre_ids': [], 'backdrop_path': None, 'adult': False, 'overview': 'An arms smuggler organization uses a pirate television station to spread dissention among representatives in an international conference in Portugal. A French diplomat travels to Macao, hoping to locate a sexy spy who had stayed in Lisbon.', 'release_date': '1966-07-27'}, {'vote_count': 1, 'id': 91267, 'video': False, 'vote_average': 3, 'title': 'Little Superman', 'popularity': 0.949, 'poster_path': '/6OkHJOf1lomGQ3ahbAAcWT2hbEz.jpg', 'original_language': 'zh', 'original_title': '生龍活虎小英雄', 'genre_ids': [], 'backdrop_path': '/98P7P9HnnUS22FvfzWIjxOdtrgD.jpg', 'adult': False, 'overview': \"World War II Japan...the Japanese military learn that the Chinese government has stolen some secret military plans and that they will attempt to send them to Hong Kong via Macau. When a respected Chinese officer is ambushed, he must rely on his old friend (played by 'Bruce Liang' ) to help him overthrow the Japanese and successfully send the plans to Hong Kong.\", 'release_date': '1975-12-09'}, {'vote_count': 1, 'id': 257653, 'video': True, 'vote_average': 7, 'title': 'UFC Fight Night: Kim vs. Hathaway', 'popularity': 0.6, 'poster_path': '/5Btc1pxy1puD1DT7LkiUPDOOgV5.jpg', 'original_language': 'en', 'original_title': 'UFC Fight Night: Kim vs. Hathaway', 'genre_ids': [28], 'backdrop_path': '/4oXgG67iDw2HqB2b5VRj93x5J4i.jpg', 'adult': False, 'overview': 'UFC Fight Night: Kim vs. Hathaway (also known as The Ultimate Fighter: China Finale) was a mixed martial arts event held by the Ultimate Fighting Championship. It took place on March 1, 2014 at the Cotai Arena in Cotai, Macau.', 'release_date': '2014-03-01'}, {'vote_count': 1, 'id': 153937, 'video': True, 'vote_average': 7.5, 'title': 'UFC on Fuel TV: Franklin vs. Le', 'popularity': 1.4, 'poster_path': '/8c1IGF4xl2qm8FkVSvKGc7JacNU.jpg', 'original_language': 'en', 'original_title': 'UFC on Fuel TV: Franklin vs. Le', 'genre_ids': [], 'backdrop_path': '/cPKE4NkO7hF0o00SNm5NMrzc00t.jpg', 'adult': False, 'overview': 'UFC on Fuel TV: Franklin vs. Le (also known as UFC: Macao and UFC on Fuel TV 6) was a mixed martial arts event held by the Ultimate Fighting Championship on November 10, 2012 at the CotaiArena in Cotai Strip, Macau. It was the first ever UFC event held in China.', 'release_date': '2012-11-10'}]}\n"
     ]
    },
    {
     "name": "stdout",
     "output_type": "stream",
     "text": [
      "9: Freedom for Us (À nous la liberté ) (1931), with distance of 0.7528855543745865:\n"
     ]
    },
    {
     "name": "stderr",
     "output_type": "stream",
     "text": [
      "INFO:tmdbv3api.tmdb:{'page': 1, 'total_results': 0, 'total_pages': 1, 'results': []}\n"
     ]
    },
    {
     "ename": "IndexError",
     "evalue": "list index out of range",
     "output_type": "error",
     "traceback": [
      "\u001b[1;31m---------------------------------------------------------------------------\u001b[0m",
      "\u001b[1;31mIndexError\u001b[0m                                Traceback (most recent call last)",
      "\u001b[1;32m<ipython-input-121-e7fd6c548cf2>\u001b[0m in \u001b[0;36m<module>\u001b[1;34m\u001b[0m\n\u001b[0;32m      9\u001b[0m         \u001b[0ms\u001b[0m \u001b[1;33m=\u001b[0m \u001b[0mrating_with_totalRating_pivot\u001b[0m\u001b[1;33m.\u001b[0m\u001b[0mindex\u001b[0m\u001b[1;33m[\u001b[0m\u001b[0mindices\u001b[0m\u001b[1;33m.\u001b[0m\u001b[0mflatten\u001b[0m\u001b[1;33m(\u001b[0m\u001b[1;33m)\u001b[0m\u001b[1;33m[\u001b[0m\u001b[0mi\u001b[0m\u001b[1;33m]\u001b[0m\u001b[1;33m]\u001b[0m\u001b[1;33m\u001b[0m\u001b[1;33m\u001b[0m\u001b[0m\n\u001b[0;32m     10\u001b[0m         \u001b[0msearch\u001b[0m \u001b[1;33m=\u001b[0m \u001b[0mm\u001b[0m\u001b[1;33m.\u001b[0m\u001b[0msearch\u001b[0m\u001b[1;33m(\u001b[0m\u001b[0ms\u001b[0m\u001b[1;33m[\u001b[0m\u001b[1;33m:\u001b[0m\u001b[1;33m-\u001b[0m\u001b[1;36m6\u001b[0m\u001b[1;33m]\u001b[0m\u001b[1;33m)\u001b[0m\u001b[1;33m\u001b[0m\u001b[1;33m\u001b[0m\u001b[0m\n\u001b[1;32m---> 11\u001b[1;33m         \u001b[0msuffix\u001b[0m \u001b[1;33m=\u001b[0m \u001b[0msearch\u001b[0m\u001b[1;33m[\u001b[0m\u001b[1;36m0\u001b[0m\u001b[1;33m]\u001b[0m\u001b[1;33m.\u001b[0m\u001b[0mposter_path\u001b[0m\u001b[1;33m\u001b[0m\u001b[1;33m\u001b[0m\u001b[0m\n\u001b[0m\u001b[0;32m     12\u001b[0m         \u001b[0murl\u001b[0m \u001b[1;33m=\u001b[0m \u001b[0mprefix\u001b[0m \u001b[1;33m+\u001b[0m \u001b[0msuffix\u001b[0m\u001b[1;33m\u001b[0m\u001b[1;33m\u001b[0m\u001b[0m\n\u001b[0;32m     13\u001b[0m         \u001b[0mL\u001b[0m\u001b[1;33m.\u001b[0m\u001b[0mappend\u001b[0m\u001b[1;33m(\u001b[0m\u001b[0murl\u001b[0m\u001b[1;33m)\u001b[0m\u001b[1;33m\u001b[0m\u001b[1;33m\u001b[0m\u001b[0m\n",
      "\u001b[1;31mIndexError\u001b[0m: list index out of range"
     ]
    }
   ],
   "source": [
    "query_index = np.random.choice(rating_with_totalRating_pivot.shape[0])\n",
    "distances, indices = model_knn.kneighbors(rating_with_totalRating_pivot.iloc[query_index, :].values.reshape(1, -1), n_neighbors = 10)\n",
    "L = []\n",
    "for i in range(0, len(distances.flatten())):\n",
    "    if i == 0:\n",
    "        print('Recommendations for {0}:\\n'.format(rating_with_totalRating_pivot.index[query_index]))\n",
    "    else:\n",
    "        print('{0}: {1}, with distance of {2}:'.format(i, rating_with_totalRating_pivot.index[indices.flatten()[i]], distances.flatten()[i]))\n",
    "        s = rating_with_totalRating_pivot.index[indices.flatten()[i]]\n",
    "        search = m.search(s[:-6]) \n",
    "        suffix = search[0].poster_path\n",
    "        url = prefix + suffix\n",
    "        L.append(url)"
   ]
  },
  {
   "cell_type": "code",
   "execution_count": 135,
   "metadata": {},
   "outputs": [
    {
     "ename": "ValueError",
     "evalue": "num must be 1 <= num <= 6, not 0",
     "output_type": "error",
     "traceback": [
      "\u001b[1;31m---------------------------------------------------------------------------\u001b[0m",
      "\u001b[1;31mValueError\u001b[0m                                Traceback (most recent call last)",
      "\u001b[1;32m<ipython-input-135-d93292fe5ae8>\u001b[0m in \u001b[0;36m<module>\u001b[1;34m\u001b[0m\n\u001b[0;32m      1\u001b[0m \u001b[1;33m\u001b[0m\u001b[0m\n\u001b[0;32m      2\u001b[0m \u001b[1;32mfor\u001b[0m \u001b[0mi\u001b[0m \u001b[1;32min\u001b[0m \u001b[0mrange\u001b[0m\u001b[1;33m(\u001b[0m\u001b[1;36m6\u001b[0m\u001b[1;33m)\u001b[0m\u001b[1;33m:\u001b[0m\u001b[1;33m\u001b[0m\u001b[1;33m\u001b[0m\u001b[0m\n\u001b[1;32m----> 3\u001b[1;33m     \u001b[0mplt\u001b[0m\u001b[1;33m.\u001b[0m\u001b[0msubplot\u001b[0m\u001b[1;33m(\u001b[0m\u001b[1;36m2\u001b[0m\u001b[1;33m,\u001b[0m\u001b[1;36m3\u001b[0m\u001b[1;33m,\u001b[0m\u001b[0mi\u001b[0m\u001b[1;33m)\u001b[0m\u001b[1;33m\u001b[0m\u001b[1;33m\u001b[0m\u001b[0m\n\u001b[0m\u001b[0;32m      4\u001b[0m     \u001b[0mplt\u001b[0m\u001b[1;33m.\u001b[0m\u001b[0mfigure\u001b[0m\u001b[1;33m(\u001b[0m\u001b[1;33m)\u001b[0m\u001b[1;33m\u001b[0m\u001b[1;33m\u001b[0m\u001b[0m\n\u001b[0;32m      5\u001b[0m     \u001b[1;31m#plt.subplot(2, 3, i)\u001b[0m\u001b[1;33m\u001b[0m\u001b[1;33m\u001b[0m\u001b[1;33m\u001b[0m\u001b[0m\n",
      "\u001b[1;32mC:\\Anaconda3\\lib\\site-packages\\matplotlib\\pyplot.py\u001b[0m in \u001b[0;36msubplot\u001b[1;34m(*args, **kwargs)\u001b[0m\n\u001b[0;32m   1082\u001b[0m \u001b[1;33m\u001b[0m\u001b[0m\n\u001b[0;32m   1083\u001b[0m     \u001b[0mfig\u001b[0m \u001b[1;33m=\u001b[0m \u001b[0mgcf\u001b[0m\u001b[1;33m(\u001b[0m\u001b[1;33m)\u001b[0m\u001b[1;33m\u001b[0m\u001b[1;33m\u001b[0m\u001b[0m\n\u001b[1;32m-> 1084\u001b[1;33m     \u001b[0ma\u001b[0m \u001b[1;33m=\u001b[0m \u001b[0mfig\u001b[0m\u001b[1;33m.\u001b[0m\u001b[0madd_subplot\u001b[0m\u001b[1;33m(\u001b[0m\u001b[1;33m*\u001b[0m\u001b[0margs\u001b[0m\u001b[1;33m,\u001b[0m \u001b[1;33m**\u001b[0m\u001b[0mkwargs\u001b[0m\u001b[1;33m)\u001b[0m\u001b[1;33m\u001b[0m\u001b[1;33m\u001b[0m\u001b[0m\n\u001b[0m\u001b[0;32m   1085\u001b[0m     \u001b[0mbbox\u001b[0m \u001b[1;33m=\u001b[0m \u001b[0ma\u001b[0m\u001b[1;33m.\u001b[0m\u001b[0mbbox\u001b[0m\u001b[1;33m\u001b[0m\u001b[1;33m\u001b[0m\u001b[0m\n\u001b[0;32m   1086\u001b[0m     \u001b[0mbyebye\u001b[0m \u001b[1;33m=\u001b[0m \u001b[1;33m[\u001b[0m\u001b[1;33m]\u001b[0m\u001b[1;33m\u001b[0m\u001b[1;33m\u001b[0m\u001b[0m\n",
      "\u001b[1;32mC:\\Anaconda3\\lib\\site-packages\\matplotlib\\figure.py\u001b[0m in \u001b[0;36madd_subplot\u001b[1;34m(self, *args, **kwargs)\u001b[0m\n\u001b[0;32m   1365\u001b[0m                     \u001b[0mself\u001b[0m\u001b[1;33m.\u001b[0m\u001b[0m_axstack\u001b[0m\u001b[1;33m.\u001b[0m\u001b[0mremove\u001b[0m\u001b[1;33m(\u001b[0m\u001b[0max\u001b[0m\u001b[1;33m)\u001b[0m\u001b[1;33m\u001b[0m\u001b[1;33m\u001b[0m\u001b[0m\n\u001b[0;32m   1366\u001b[0m \u001b[1;33m\u001b[0m\u001b[0m\n\u001b[1;32m-> 1367\u001b[1;33m             \u001b[0ma\u001b[0m \u001b[1;33m=\u001b[0m \u001b[0msubplot_class_factory\u001b[0m\u001b[1;33m(\u001b[0m\u001b[0mprojection_class\u001b[0m\u001b[1;33m)\u001b[0m\u001b[1;33m(\u001b[0m\u001b[0mself\u001b[0m\u001b[1;33m,\u001b[0m \u001b[1;33m*\u001b[0m\u001b[0margs\u001b[0m\u001b[1;33m,\u001b[0m \u001b[1;33m**\u001b[0m\u001b[0mkwargs\u001b[0m\u001b[1;33m)\u001b[0m\u001b[1;33m\u001b[0m\u001b[1;33m\u001b[0m\u001b[0m\n\u001b[0m\u001b[0;32m   1368\u001b[0m         \u001b[0mself\u001b[0m\u001b[1;33m.\u001b[0m\u001b[0m_axstack\u001b[0m\u001b[1;33m.\u001b[0m\u001b[0madd\u001b[0m\u001b[1;33m(\u001b[0m\u001b[0mkey\u001b[0m\u001b[1;33m,\u001b[0m \u001b[0ma\u001b[0m\u001b[1;33m)\u001b[0m\u001b[1;33m\u001b[0m\u001b[1;33m\u001b[0m\u001b[0m\n\u001b[0;32m   1369\u001b[0m         \u001b[0mself\u001b[0m\u001b[1;33m.\u001b[0m\u001b[0msca\u001b[0m\u001b[1;33m(\u001b[0m\u001b[0ma\u001b[0m\u001b[1;33m)\u001b[0m\u001b[1;33m\u001b[0m\u001b[1;33m\u001b[0m\u001b[0m\n",
      "\u001b[1;32mC:\\Anaconda3\\lib\\site-packages\\matplotlib\\axes\\_subplots.py\u001b[0m in \u001b[0;36m__init__\u001b[1;34m(self, fig, *args, **kwargs)\u001b[0m\n\u001b[0;32m     58\u001b[0m                     raise ValueError(\n\u001b[0;32m     59\u001b[0m                         (\"num must be 1 <= num <= {maxn}, not {num}\"\n\u001b[1;32m---> 60\u001b[1;33m                         ).format(maxn=rows*cols, num=num))\n\u001b[0m\u001b[0;32m     61\u001b[0m                 self._subplotspec = GridSpec(\n\u001b[0;32m     62\u001b[0m                         rows, cols, figure=self.figure)[int(num) - 1]\n",
      "\u001b[1;31mValueError\u001b[0m: num must be 1 <= num <= 6, not 0"
     ]
    },
    {
     "data": {
      "text/plain": [
       "<Figure size 432x288 with 0 Axes>"
      ]
     },
     "metadata": {},
     "output_type": "display_data"
    }
   ],
   "source": [
    "\n",
    "for i in range(6):\n",
    "    plt.subplot(2,3,i)\n",
    "    plt.figure()\n",
    "    #plt.subplot(2, 3, i)\n",
    "    image = imread(L[i])\n",
    "    poster = Image.fromarray(image)\n",
    "    fig = plt.imshow(image, cmap = 'gray')\n",
    "    fig.axes.get_xaxis().set_visible(False)\n",
    "    fig.axes.get_yaxis().set_visible(False)"
   ]
  },
  {
   "cell_type": "code",
   "execution_count": null,
   "metadata": {},
   "outputs": [],
   "source": []
  },
  {
   "cell_type": "code",
   "execution_count": null,
   "metadata": {},
   "outputs": [],
   "source": []
  },
  {
   "cell_type": "code",
   "execution_count": null,
   "metadata": {},
   "outputs": [],
   "source": [
    "   "
   ]
  },
  {
   "cell_type": "code",
   "execution_count": null,
   "metadata": {},
   "outputs": [],
   "source": []
  },
  {
   "cell_type": "code",
   "execution_count": null,
   "metadata": {},
   "outputs": [],
   "source": []
  },
  {
   "cell_type": "code",
   "execution_count": null,
   "metadata": {},
   "outputs": [],
   "source": []
  },
  {
   "cell_type": "code",
   "execution_count": null,
   "metadata": {},
   "outputs": [],
   "source": []
  },
  {
   "cell_type": "code",
   "execution_count": null,
   "metadata": {},
   "outputs": [],
   "source": []
  }
 ],
 "metadata": {
  "kernelspec": {
   "display_name": "Python 3",
   "language": "python",
   "name": "python3"
  },
  "language_info": {
   "codemirror_mode": {
    "name": "ipython",
    "version": 3
   },
   "file_extension": ".py",
   "mimetype": "text/x-python",
   "name": "python",
   "nbconvert_exporter": "python",
   "pygments_lexer": "ipython3",
   "version": "3.6.8"
  }
 },
 "nbformat": 4,
 "nbformat_minor": 2
}
